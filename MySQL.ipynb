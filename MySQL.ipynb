{
 "cells": [
  {
   "attachments": {},
   "cell_type": "markdown",
   "id": "29acaa17",
   "metadata": {},
   "source": [
    "## Working with MySQL in Python"
   ]
  },
  {
   "cell_type": "code",
   "execution_count": 14,
   "id": "08e96deb",
   "metadata": {},
   "outputs": [],
   "source": [
    "# Importing the MySQL connector to build a connection with the database\n",
    "\n",
    "import mysql.connector"
   ]
  },
  {
   "cell_type": "code",
   "execution_count": 15,
   "id": "dfc010f7",
   "metadata": {},
   "outputs": [
    {
     "name": "stdout",
     "output_type": "stream",
     "text": [
      "<mysql.connector.connection_cext.CMySQLConnection object at 0x0000020312E9FE20>\n"
     ]
    }
   ],
   "source": [
    "# Connecting with MySQL to with Credentials \n",
    "\n",
    "mydb = mysql.connector.connect(\n",
    "host='localhost',\n",
    "user='root',\n",
    "password='*******')\n",
    "\n",
    "print(mydb)"
   ]
  },
  {
   "cell_type": "code",
   "execution_count": 16,
   "id": "98564e6d",
   "metadata": {},
   "outputs": [],
   "source": [
    "# Cretaing a cursor object for the database\n",
    "\n",
    "'''Cursor are bound to the connection for the entire lifetime and \n",
    "all the commands are executed in the context of the database session wrapped by the connection'''\n",
    "\n",
    "cur = mydb.cursor(buffered=True) #buffered makes the execution process continious"
   ]
  },
  {
   "cell_type": "code",
   "execution_count": 17,
   "id": "29153ac4",
   "metadata": {},
   "outputs": [],
   "source": [
    "# creating a database\n",
    "\n",
    "cur.execute('CREATE DATABASE mydata')"
   ]
  },
  {
   "cell_type": "code",
   "execution_count": 19,
   "id": "676c3989",
   "metadata": {},
   "outputs": [
    {
     "data": {
      "text/plain": [
       "<bound method CMySQLCursorBuffered.fetchall of <mysql.connector.cursor_cext.CMySQLCursorBuffered object at 0x0000020312E9FC40>>"
      ]
     },
     "execution_count": 19,
     "metadata": {},
     "output_type": "execute_result"
    }
   ],
   "source": [
    "# Identifying the list of available databases\n",
    "\n",
    "cur.execute(\"show databases\")\n",
    "cur.fetchall    # fetchall - fetches all rows "
   ]
  },
  {
   "cell_type": "code",
   "execution_count": 21,
   "id": "5fc13c77",
   "metadata": {},
   "outputs": [],
   "source": [
    "# Dropping a database\n",
    "\n",
    "cur.execute('drop database mydata')"
   ]
  },
  {
   "cell_type": "code",
   "execution_count": 26,
   "id": "3506111e",
   "metadata": {},
   "outputs": [
    {
     "name": "stdout",
     "output_type": "stream",
     "text": [
      "None\n"
     ]
    }
   ],
   "source": [
    "# Identifying the current database\n",
    "\n",
    "print(cur.execute('select database()'))"
   ]
  },
  {
   "cell_type": "code",
   "execution_count": 27,
   "id": "58085997",
   "metadata": {},
   "outputs": [
    {
     "name": "stdout",
     "output_type": "stream",
     "text": [
      "None\n"
     ]
    }
   ],
   "source": [
    "# Selecting a database\n",
    "\n",
    "print(cur.execute('use mydatabase'))"
   ]
  },
  {
   "cell_type": "code",
   "execution_count": 29,
   "id": "148ac566",
   "metadata": {},
   "outputs": [],
   "source": [
    "# Creating a table for the database\n",
    "\n",
    "cur.execute(\"CREATE TABLE customers (name VARCHAR(255), address VARCHAR(255))\")"
   ]
  },
  {
   "cell_type": "code",
   "execution_count": 30,
   "id": "a62fef42",
   "metadata": {},
   "outputs": [
    {
     "name": "stdout",
     "output_type": "stream",
     "text": [
      "('customers',)\n"
     ]
    }
   ],
   "source": [
    "# Using for loop to iterate through list of tables\n",
    "\n",
    "cur.execute('show tables')\n",
    "for i in cur:\n",
    "    print(i)"
   ]
  },
  {
   "cell_type": "code",
   "execution_count": 31,
   "id": "9bc7564c",
   "metadata": {},
   "outputs": [
    {
     "name": "stdout",
     "output_type": "stream",
     "text": [
      "('classicmodels',)\n",
      "('information_schema',)\n",
      "('mydatabase',)\n",
      "('mysql',)\n",
      "('performance_schema',)\n",
      "('sys',)\n"
     ]
    }
   ],
   "source": [
    "# Identifying the list of avaiable databases\n",
    "\n",
    "cur.execute('show databases')\n",
    "for i in cur:\n",
    "    print(i)"
   ]
  },
  {
   "cell_type": "code",
   "execution_count": 33,
   "id": "4a710d30",
   "metadata": {},
   "outputs": [
    {
     "name": "stdout",
     "output_type": "stream",
     "text": [
      "('name', b'varchar(255)', 'YES', '', None, '')\n",
      "('address', b'varchar(255)', 'YES', '', None, '')\n"
     ]
    }
   ],
   "source": [
    "# Describing table properties\n",
    "\n",
    "cur.execute('desc customers')\n",
    "for i in cur:\n",
    "    print(i)"
   ]
  },
  {
   "cell_type": "code",
   "execution_count": 34,
   "id": "93a4a2bb",
   "metadata": {},
   "outputs": [],
   "source": [
    "# Adding a primary key and a new column using the alter method\n",
    "\n",
    "cur.execute(\"ALTER TABLE customers ADD COLUMN id INT AUTO_INCREMENT PRIMARY KEY\")"
   ]
  },
  {
   "cell_type": "code",
   "execution_count": 35,
   "id": "111f0660",
   "metadata": {},
   "outputs": [
    {
     "name": "stdout",
     "output_type": "stream",
     "text": [
      "('name', b'varchar(255)', 'YES', '', None, '')\n",
      "('address', b'varchar(255)', 'YES', '', None, '')\n",
      "('id', b'int', 'NO', 'PRI', None, 'auto_increment')\n"
     ]
    }
   ],
   "source": [
    "# checking the changes made\n",
    "\n",
    "cur.execute('desc customers')\n",
    "for i in cur:\n",
    "    print(i)"
   ]
  },
  {
   "attachments": {},
   "cell_type": "markdown",
   "id": "2c9d1ca8",
   "metadata": {},
   "source": [
    "   ### Commit() - is necessary to make any changes in the database table"
   ]
  },
  {
   "cell_type": "code",
   "execution_count": 40,
   "id": "91b5cd87",
   "metadata": {},
   "outputs": [],
   "source": [
    "# Inserting values into the customers table\n",
    "\n",
    "cur.execute('INSERT INTO customers (name,address) VALUES (\"john\",\"Highway 21\")')\n",
    "mydb.commit()"
   ]
  },
  {
   "cell_type": "code",
   "execution_count": 41,
   "id": "c9a1ac36",
   "metadata": {},
   "outputs": [
    {
     "data": {
      "text/plain": [
       "[('john', 'Highway 21', 1), ('john', 'Highway 21', 2)]"
      ]
     },
     "execution_count": 41,
     "metadata": {},
     "output_type": "execute_result"
    }
   ],
   "source": [
    "# Selecting all the data from customers table\n",
    "\n",
    "cur.execute('select * from customers')\n",
    "cur.fetchall()"
   ]
  },
  {
   "cell_type": "code",
   "execution_count": 45,
   "id": "35881664",
   "metadata": {},
   "outputs": [],
   "source": [
    "# Deleting a customer with ID = 2\n",
    "\n",
    "cur.execute('delete from customers where id=\"2\"')\n",
    "mydb.commit()"
   ]
  },
  {
   "attachments": {},
   "cell_type": "markdown",
   "id": "94672777",
   "metadata": {},
   "source": [
    "### Inserting values into the table"
   ]
  },
  {
   "cell_type": "code",
   "execution_count": 46,
   "id": "2e11e90a",
   "metadata": {},
   "outputs": [],
   "source": [
    "# Inserting a single row of data into the table\n",
    "\n",
    "sql = \"INSERT INTO customers (name, address) VALUES (%s, %s)\"\n",
    "val = (\"John\", \"Highway 21\")\n",
    "cur.execute(sql, val)\n",
    "\n",
    "mydb.commit()"
   ]
  },
  {
   "attachments": {},
   "cell_type": "markdown",
   "id": "d1903a91",
   "metadata": {},
   "source": [
    "### Inserting Multiple values into the table"
   ]
  },
  {
   "cell_type": "code",
   "execution_count": 47,
   "id": "4dd20873",
   "metadata": {},
   "outputs": [],
   "source": [
    "# Inserting multiple rows of data into the table\n",
    "\n",
    "sql = \"INSERT INTO customers (name, address) VALUES (%s, %s)\"\n",
    "val = [\n",
    "  ('Peter', 'Lowstreet 4'),\n",
    "  ('Amy', 'Apple st 652'),\n",
    "  ('Hannah', 'Mountain 21'),\n",
    "  ('Michael', 'Valley 345'),\n",
    "  ('Sandy', 'Ocean blvd 2'),\n",
    "  ('Betty', 'Green Grass 1'),\n",
    "  ('Richard', 'Sky st 331'),\n",
    "  ('Susan', 'One way 98'),\n",
    "  ('Vicky', 'Yellow Garden 2'),\n",
    "  ('Ben', 'Park Lane 38'),\n",
    "  ('William', 'Central st 954'),\n",
    "  ('Chuck', 'Main Road 989'),\n",
    "  ('Viola', 'Sideway 1633')\n",
    "]\n",
    "\n",
    "cur.executemany(sql, val)     # executemany() - to insert multiple values\n",
    "\n",
    "mydb.commit()"
   ]
  }
 ],
 "metadata": {
  "kernelspec": {
   "display_name": "Python 3 (ipykernel)",
   "language": "python",
   "name": "python3"
  },
  "language_info": {
   "codemirror_mode": {
    "name": "ipython",
    "version": 3
   },
   "file_extension": ".py",
   "mimetype": "text/x-python",
   "name": "python",
   "nbconvert_exporter": "python",
   "pygments_lexer": "ipython3",
   "version": "3.9.12"
  }
 },
 "nbformat": 4,
 "nbformat_minor": 5
}
